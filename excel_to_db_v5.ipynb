{
 "cells": [
  {
   "cell_type": "code",
   "execution_count": 1,
   "metadata": {},
   "outputs": [],
   "source": [
    "%load_ext autoreload\n",
    "%autoreload 2"
   ]
  },
  {
   "cell_type": "code",
   "execution_count": 2,
   "metadata": {
    "collapsed": true
   },
   "outputs": [],
   "source": [
    "import openpyxl as pyxl\n",
    "import pandas as pd\n",
    "import numpy as np\n",
    "\n",
    "from bidict import bidict\n",
    "\n",
    "from excel_helpers import *\n",
    "from db_entries import *\n",
    "from unified_excel_sheet import *\n",
    "\n",
    "import re\n",
    "from itertools import chain\n",
    "# we only need the function datetime.datetime.now; we can now reference it as dt.now\n",
    "from datetime import datetime as dt\n",
    "\n",
    "import sqlite3 as sql\n",
    "\n",
    "import logging\n",
    "logger = logging.getLogger()"
   ]
  },
  {
   "cell_type": "code",
   "execution_count": 3,
   "metadata": {
    "collapsed": true
   },
   "outputs": [],
   "source": [
    "%%capture\n",
    "\n",
    "db_filename = 'my-budget-dev-v5.sqlite'\n",
    "\n",
    "%run nuclear_option.py $db_filename\n",
    "%run database_setup.py $db_filename\n",
    "\n",
    "db = sql.connect(db_filename)\n",
    "\n",
    "event_groups_df = pd.read_sql('SELECT * FROM event_groups', db, index_col='group_id')"
   ]
  },
  {
   "cell_type": "code",
   "execution_count": 4,
   "metadata": {
    "collapsed": true
   },
   "outputs": [],
   "source": [
    "excel_filename = 'GemeinsameBilanzierung_16_17__2017-11-03.xlsx'\n",
    "\n",
    "current_sheet_name = 'August'\n",
    "comment_sheet_name = 'august_'\n",
    "\n",
    "# We take here the option data_only since for now we are not interested in the expression\n",
    "wb = pyxl.load_workbook(excel_filename, data_only=True)\n",
    "\n",
    "\n",
    "current_sheet = wb.get_sheet_by_name(current_sheet_name)\n",
    "comment_sheet = wb.copy_worksheet(current_sheet)\n",
    "comment_sheet.title = comment_sheet_name\n",
    "comment_sheet.sheet_state = 'hidden'"
   ]
  },
  {
   "cell_type": "code",
   "execution_count": 5,
   "metadata": {
    "collapsed": true
   },
   "outputs": [],
   "source": [
    "col_titles_budget = ['budget_pot', 'description', 'date', 'amount', 'excel_range']\n",
    "col_titles_payments = ['description', 'date', 'amount', 'excel_range']\n",
    "\n",
    "budgeting = get_df_by_range(comment_sheet, 'A6', 'D130', 2)\n",
    "budgeting.columns = col_titles_budget\n",
    "budgeting['is_budget_event'] = 'X'\n",
    "\n",
    "max_bargeld = get_df_by_range(comment_sheet, 'H7', 'J130', 1)\n",
    "max_bargeld.columns = col_titles_payments\n",
    "max_bargeld['money_pot'] = 'BM'\n",
    "max_bargeld['type_description'] = 'Barzahlung'\n",
    "\n",
    "paul_bargeld = get_df_by_range(comment_sheet, 'K7', 'M130', 1)\n",
    "paul_bargeld.columns = col_titles_payments\n",
    "paul_bargeld['money_pot'] = 'BP'\n",
    "paul_bargeld['type_description'] = 'Barzahlung'\n",
    "\n",
    "konto = get_df_by_range(comment_sheet, 'N7', 'P130', 1)\n",
    "konto.columns = col_titles_payments\n",
    "konto['money_pot'] = 'KG'\n",
    "konto['type_description'] = 'Kartenzahlung'\n",
    "\n",
    "all_payments = pd.concat([max_bargeld, paul_bargeld, konto])\n",
    "all_payments['is_payment'] = 'X'\n",
    "\n",
    "all_info = pd.merge(budgeting, all_payments, how='outer', \n",
    "                    on=['description', 'date', 'amount'], indicator=True)\n",
    "\n",
    "all_info['treated'] = 'No'\n",
    "\n",
    "all_info['date'] = all_info['date'].dt.date\n",
    "all_info['amount'] = all_info['amount'].round(2)"
   ]
  },
  {
   "cell_type": "code",
   "execution_count": null,
   "metadata": {},
   "outputs": [
    {
     "name": "stdout",
     "output_type": "stream",
     "text": [
      "The file full_month_august.xlsx will be opened in Excel for data entry. Enter Q to abort, enter anything else to continue: \n"
     ]
    }
   ],
   "source": [
    "## Creating Data for Bargeld Payments data\n",
    "\n",
    "wb_filename = 'full_month_august.xlsx'\n",
    "definition_data = 'base_excel.json'\n",
    "\n",
    "with open(definition_data) as f :\n",
    "    json_data = f.read()\n",
    "    sheet_def = json.loads(json_data)\n",
    "\n",
    "sheet_def['main_sheet']['event_type']['hidden'] = True\n",
    "sheet_def['main_sheet']['money_pot_name']['hidden'] = True\n",
    "sheet_def['main_sheet']['money_sink_name']['hidden'] = True\n",
    "sheet_def['main_sheet']['budget_type']['hidden'] = True\n",
    "\n",
    "create_excel_table_from_data(all_info, wb_filename, db, sheet_def)\n",
    "checked_data = use_excel_for_data_entry(wb_filename, copy_mode=False)"
   ]
  },
  {
   "cell_type": "code",
   "execution_count": null,
   "metadata": {},
   "outputs": [],
   "source": [
    "ignored_data_index = checked_data[checked_data['ignore'] == 'X'].index\n",
    "nonignore_data_index = checked_data.index.difference(ignored_data_index)\n",
    "\n",
    "ignored_data = checked_data.loc[ignored_data_index]\n",
    "nonignore_data = checked_data.loc[nonignore_data_index]\n",
    "\n",
    "nonignore_data = nonignore_data.sort_values('date')\n",
    "display(nonignore_data)\n",
    "\n",
    "definition_data = 'base_excel.json'\n",
    "recheck_wb_filename = 'recheck_full_month.xlsx'\n",
    "\n",
    "with open(definition_data) as f :\n",
    "    json_data = f.read()\n",
    "    sheet_def = json.loads(json_data)\n",
    "\n",
    "sheet_def['main_sheet']['event_type']['hidden'] = True\n",
    "sheet_def['main_sheet']['money_pot_name']['hidden'] = True\n",
    "sheet_def['main_sheet']['money_sink_name']['hidden'] = True\n",
    "sheet_def['main_sheet']['budget_type']['hidden'] = True\n",
    "\n",
    "create_excel_table_from_data(nonignore_data, recheck_wb_filename, db, sheet_def)\n",
    "double_checked = use_excel_for_data_entry(recheck_wb_filename, copy_mode=False)"
   ]
  },
  {
   "cell_type": "code",
   "execution_count": null,
   "metadata": {},
   "outputs": [],
   "source": [
    "parse_unified_excel_table(checked_data, db, db_filename, current_sheet, comment_sheet, excel_filename)"
   ]
  },
  {
   "cell_type": "code",
   "execution_count": null,
   "metadata": {
    "collapsed": true
   },
   "outputs": [],
   "source": [
    "### List of all fully matched things we didnt treat yet\n",
    "#subsetting_rules = {'_merge' : 'both', 'treated' : 'No'}\n",
    "#remaining_matched = subset_data_frame(all_info, subsetting_rules)\n",
    "#\n",
    "#display(remaining_matched)\n",
    "#display(untreated_data)"
   ]
  },
  {
   "cell_type": "code",
   "execution_count": null,
   "metadata": {
    "collapsed": true
   },
   "outputs": [],
   "source": [
    "### For the \"GK\" (Gemeinsames Konto) Payments we create an excel sheet, where we can change the payment type\n",
    "#subsetting_rules = {'treated' : 'No'}\n",
    "#remaining = subset_data_frame(all_info, subsetting_rules)\n",
    "#remaining = remaining.loc[remaining.index.difference(untreated_data.index)]\n",
    "#\n",
    "#wb_filename = 'remaining.xlsx'\n",
    "#definition_data = 'base_excel.json'\n",
    "#\n",
    "#create_excel_table_from_data(remaining, wb_filename, db, definition_data)\n",
    "#checked_remaining = use_excel_for_data_entry(wb_filename, copy_mode=False)"
   ]
  },
  {
   "cell_type": "code",
   "execution_count": null,
   "metadata": {
    "collapsed": true
   },
   "outputs": [],
   "source": [
    "#temporary_id_lookup = {}\n",
    "#\n",
    "#for index, row in checked_remaining.iterrows() :\n",
    "#    if row['ignore'] == 'X' :\n",
    "#        untreated_data = untreated_data.append(checked_full_match_konto.loc[index])\n",
    "#        continue\n",
    "#        \n",
    "#    excel_ranges = ([] if np.isnan(row['excel_range_x']) else [row['excel_range_x']]) + \\\n",
    "#                   ([] if np.isnan(row['excel_range_y']) else [row['excel_range_y']])\n",
    "#    \n",
    "#    if not np.isnan(row['temporary_id']) and row['temporary_id'] in temporary_id_lookup :\n",
    "#        the_id = temporary_id_lookup[row['temporary_id']]\n",
    "#    else :\n",
    "#        the_id = create_money_event(db, row['type_description'], row['description'], row['date'])\n",
    "#        \n",
    "#\n",
    "#        full_excel_ranges = [current_sheet.title + '!' + a_range for a_range in excel_ranges]\n",
    "#    \n",
    "#        database_comment = autogenerate_database_comment_multiple_excel_ranges(\n",
    "#            excel_filename, full_excel_ranges, comment_sheet.title)\n",
    "#        \n",
    "#        add_database_event(db, the_id, database_comment)\n",
    "#        \n",
    "#        if not np.isnan(row['temporary_id']) :\n",
    "#            temporary_id_lookup[row['temporary_id']] = the_id\n",
    "#    \n",
    "#    ## ToDo : Add commenting into database and Excel\n",
    "#    \n",
    "#    if row['is_budget_event'] == 'X' :\n",
    "#        add_budget_event(db, the_id, row['budget_pot'], row['amount'])\n",
    "#    if row['is_payment'] == 'X' :\n",
    "#        add_payment(db, the_id, row['money_pot'], row['amount'])\n",
    "#    if row['is_recieving'] == 'X' :\n",
    "#        add_payment(db, the_id, row['money_pot'], row['amount'])\n",
    "#    if row['is_transfer'] == 'X' :\n",
    "#        add_payment(db, the_id, row['money_pot'], row['money_pot_sink'], row['amount'])\n",
    "#    \n",
    "#    if not np.isnan(row['in_group']) :  \n",
    "#        if row['in_group'] not in event_groups_df.index :\n",
    "#            if row['group_name'][0] == '=' :\n",
    "#                raise ValueError(\n",
    "#                    \"You should not use a formula as group name! The given group name was {}.\".format(\n",
    "#                        row['group_name']))\n",
    "#            crsr = db.cursor()\n",
    "#            crsr.execute('INSERT INTO event_groups VALUES ({}, \"{}\")'.format(\n",
    "#                row['in_group'], row['group_name']))\n",
    "#            db.commit()\n",
    "#            event_groups_df = pd.read_sql('SELECT * FROM event_groups', db, index_col='group_id')\n",
    "#            \n",
    "#        crsr = db.cursor()\n",
    "#        crsr.execute('INSERT INTO event_in_group VALUES ({}, {})'.format(row['in_group'], the_id))\n",
    "#        db.commit()\n",
    "#    \n",
    "#    excel_comment = autogenerate_excel_comment(dt.now().strftime('%Y-%m-%d'), db_filename, the_id)\n",
    "#    excel_cell_list = list(chain.from_iterable([list_from_range_string(a_range) for a_range in ranges]))\n",
    "#    put_comment_into_excel(comment_sheet, excel_cell_list, excel_comment)\n",
    "#    \n",
    "#    all_info.loc[index, 'treated'] = 'Yes'"
   ]
  },
  {
   "cell_type": "code",
   "execution_count": null,
   "metadata": {
    "collapsed": true
   },
   "outputs": [],
   "source": [
    "wb.save('GemBil.xlsx')"
   ]
  },
  {
   "cell_type": "code",
   "execution_count": null,
   "metadata": {
    "collapsed": true
   },
   "outputs": [],
   "source": [
    "db.close()"
   ]
  },
  {
   "cell_type": "code",
   "execution_count": null,
   "metadata": {},
   "outputs": [],
   "source": [
    "# read a full table into a pandas data framd\n",
    "crsr = db.cursor()\n",
    "crsr.execute(\"SELECT name FROM sqlite_master WHERE type='table';\")\n",
    "\n",
    "for table in crsr.fetchall() :\n",
    "    display(pd.read_sql_query('SELECT * FROM {};'.format(table[0]), db))"
   ]
  },
  {
   "cell_type": "code",
   "execution_count": null,
   "metadata": {},
   "outputs": [],
   "source": [
    "db_filename = 'my-budget-dev-v4.sqlite'\n",
    "\n",
    "db = sql.connect(db_filename)\n",
    "\n",
    "display(pd.read_sql_query('''\n",
    "    SELECT * FROM \n",
    "    (money_events LEFT JOIN budget_events ON money_events.id = budget_events.id)\n",
    "    LEFT JOIN payments ON money_events.id = payments.id\n",
    "''', db))"
   ]
  },
  {
   "cell_type": "code",
   "execution_count": null,
   "metadata": {},
   "outputs": [],
   "source": [
    "display(pd.read_sql_query('''\n",
    "    SELECT * FROM \n",
    "    (money_events LEFT JOIN budget_events ON money_events.id = budget_events.id)\n",
    "    LEFT JOIN payments ON money_events.id = payments.id\n",
    "    WHERE money_events.id = 2017081002\n",
    "''', db))"
   ]
  },
  {
   "cell_type": "code",
   "execution_count": null,
   "metadata": {
    "collapsed": true
   },
   "outputs": [],
   "source": []
  }
 ],
 "metadata": {
  "kernelspec": {
   "display_name": "Python 3",
   "language": "python",
   "name": "python3"
  },
  "language_info": {
   "codemirror_mode": {
    "name": "ipython",
    "version": 3
   },
   "file_extension": ".py",
   "mimetype": "text/x-python",
   "name": "python",
   "nbconvert_exporter": "python",
   "pygments_lexer": "ipython3",
   "version": "3.6.2"
  }
 },
 "nbformat": 4,
 "nbformat_minor": 2
}
