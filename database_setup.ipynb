{
 "cells": [
  {
   "cell_type": "code",
   "execution_count": 11,
   "metadata": {
    "collapsed": true
   },
   "outputs": [],
   "source": [
    "import sqlite3 as sql\n",
    "\n",
    "# import os\n",
    "\n",
    "import pandas as pd"
   ]
  },
  {
   "cell_type": "code",
   "execution_count": 12,
   "metadata": {
    "collapsed": true
   },
   "outputs": [],
   "source": [
    "db = sql.connect('my-budget-dev-v1.sqlite')"
   ]
  },
  {
   "cell_type": "code",
   "execution_count": 13,
   "metadata": {
    "collapsed": true
   },
   "outputs": [],
   "source": [
    "# create table list of all places where money can lie\n",
    "crsr = db.cursor()\n",
    "\n",
    "crsr.execute('''\n",
    "    CREATE TABLE IF NOT EXISTS money_pots (\n",
    "        key TEXT PRIMARY KEY,\n",
    "        description TEXT,\n",
    "        liquid TEXT\n",
    "    );\n",
    "''')\n",
    "\n",
    "crsr.execute('''\n",
    "    INSERT INTO money_pots\n",
    "    VALUES ('KG', 'gemeinsames Konto', 'Yes'),\n",
    "           ('KE', 'Extrakonto zum gemeinsamen Konto', 'Yes'),\n",
    "           ('KM', 'Konto Max', 'Yes'),\n",
    "           ('KP', 'Konto Paul', 'Yes'),\n",
    "           ('KB', 'Konto Bundesbank', 'Yes'),\n",
    "           ('KC', 'Consorsbankkonto', 'No'),\n",
    "           ('BM', 'Bargeld Max', 'Yes'),\n",
    "           ('BP', 'Bargeld Paul', 'Yes'),\n",
    "           ('CB', 'Chipkarte Bundesbank', 'Semi'),\n",
    "           ('CT', 'Chipkarte Trianon', 'Semi'),\n",
    "           ('CM', 'Chipkarte Mensa Potsdam', 'Semi'),\n",
    "           ('GM', 'Geldkarte Max', 'Semi'),\n",
    "           ('SB', 'Schatulle Berlin', 'Yes'),\n",
    "           ('SF', 'Schatulle Frankfurt', 'Yes');\n",
    "''')\n",
    "\n",
    "db.commit()"
   ]
  },
  {
   "cell_type": "code",
   "execution_count": 14,
   "metadata": {
    "collapsed": true
   },
   "outputs": [],
   "source": [
    "### create table list of all actions that can be undertaken with funds\n",
    "##crsr = db.cursor()\n",
    "##\n",
    "##crsr.execute('''\n",
    "##    CREATE TABLE IF NOT EXISTS payment_types (\n",
    "##        type TEXT PRIMARY KEY,\n",
    "##        description TEXT,\n",
    "##        abbreviation TEXT UNIQUE\n",
    "##    );\n",
    "##''')\n",
    "##\n",
    "##crsr.execute('''\n",
    "##    INSERT INTO payment_types\n",
    "##    VALUES ('Barzahlung', 'bares Bezahlen', 'B'),\n",
    "##           ('Kartenzahlung', 'Zahlen mit Visa oder Girokarte', 'K'),\n",
    "##           ('Überweisung', 'Rechnungsbegleichung durch Überweisen', 'U'),\n",
    "##           ('Dauerauftrag', 'automatische (regelmäßige) Rechnungsbegleichung durch Dauerauftrag', 'D'),\n",
    "##           ('SEPA-Mandat', 'automatische (regelmäßige) Rechnungsbegleichung durch direkten Bankeinzug', 'S'),\n",
    "##           ('Bankeinzug', 'Rechnungsbegleichung durch direkten Bankeinzug', 'BE');\n",
    "##''')\n",
    "##\n",
    "##crsr.execute('''\n",
    "##    CREATE TABLE IF NOT EXISTS transfer_types (\n",
    "##        type TEXT PRIMARY KEY,\n",
    "##        description TEXT,\n",
    "##        abbreviation TEXT UNIQUE\n",
    "##    );\n",
    "##''')\n",
    "##\n",
    "##crsr.execute('''\n",
    "##    INSERT INTO transfer_types\n",
    "##    VALUES ('Abheben', 'Geldabheben', 'A'),\n",
    "##           ('Kontotransfer', 'Transger von Geld zwischen zwei Konten', 'KT'),\n",
    "##           ('Bargeldtransfer', 'Transfer von Bargeld zwischen zwei baren Geldtöpfen', 'BT');\n",
    "##''')\n",
    "##\n",
    "##crsr.execute('''\n",
    "##    CREATE TABLE IF NOT EXISTS recieve_types (\n",
    "##        type TEXT PRIMARY KEY,\n",
    "##        description TEXT,\n",
    "##        abbreviation TEXT UNIQUE\n",
    "##    );\n",
    "##''')\n",
    "##\n",
    "##crsr.execute('''\n",
    "##    INSERT INTO recieve_types\n",
    "##    VALUES ('Einnahme', 'reguläre Geldeinnahme', 'E'),\n",
    "##           ('Geldfund', 'unerwartete Geldeinnahme, z.B. Geldfund', 'GF');\n",
    "##''')\n",
    "##\n",
    "##\n",
    "##db.commit()"
   ]
  },
  {
   "cell_type": "code",
   "execution_count": 15,
   "metadata": {},
   "outputs": [
    {
     "ename": "OperationalError",
     "evalue": "near \"type\": syntax error",
     "output_type": "error",
     "traceback": [
      "\u001b[0;31m---------------------------------------------------------------------------\u001b[0m",
      "\u001b[0;31mOperationalError\u001b[0m                          Traceback (most recent call last)",
      "\u001b[0;32m<ipython-input-15-e6b05fc73712>\u001b[0m in \u001b[0;36m<module>\u001b[0;34m()\u001b[0m\n\u001b[1;32m     18\u001b[0m         \u001b[0mabbreviation\u001b[0m \u001b[0mTEXT\u001b[0m \u001b[0mUNIQUE\u001b[0m\u001b[0;34m\u001b[0m\u001b[0m\n\u001b[1;32m     19\u001b[0m     );\n\u001b[0;32m---> 20\u001b[0;31m ''')\n\u001b[0m\u001b[1;32m     21\u001b[0m \u001b[0;34m\u001b[0m\u001b[0m\n\u001b[1;32m     22\u001b[0m crsr.execute('''\n",
      "\u001b[0;31mOperationalError\u001b[0m: near \"type\": syntax error"
     ]
    }
   ],
   "source": [
    "crsr = db.cursor()\n",
    "\n",
    "crsr.execute('''\n",
    "    CREATE TABLE IF NOT EXISTS event_types ( \n",
    "        category TEXT,\n",
    "        type TEXT PRIMARY KEY,\n",
    "        description TEXT,\n",
    "        abbreviation TEXT UNIQUE\n",
    "    );\n",
    "''')\n",
    "\n",
    "crsr.execute('''\n",
    "    INSERT INTO payment_types\n",
    "    VALUES ('Zahlung', 'Barzahlung', 'bares Bezahlen', 'B'),\n",
    "           ('Zahlung', 'Kartenzahlung', 'Zahlen mit Visa oder Girokarte', 'K'),\n",
    "           ('Zahlung', 'Überweisung', 'Rechnungsbegleichung durch Überweisen', 'U'),\n",
    "           ('Zahlung', 'Dauerauftrag', 'automatische (regelmäßige) Rechnungsbegleichung durch Dauerauftrag', 'D'),\n",
    "           ('Zahlung', 'SEPA-Mandat', 'automatische (regelmäßige) Rechnungsbegleichung durch direkten Bankeinzug', 'S'),\n",
    "           ('Zahlung', 'Bankeinzug', 'Rechnungsbegleichung durch direkten Bankeinzug', 'BE'),\n",
    "           ('Transfer', 'Abheben', 'Geldabheben', 'A'),\n",
    "           ('Transfer', 'Kontotransfer', 'Transger von Geld zwischen zwei Konten', 'KT'),\n",
    "           ('Transfer', 'Bargeldtransfer', 'Transfer von Bargeld zwischen zwei baren Geldtöpfen', 'BT'),\n",
    "           ('Recieving', 'Einnahme', 'reguläre Geldeinnahme', 'E'),\n",
    "           ('Recieving', 'Geldfund', 'unerwartete Geldeinnahme, z.B. Geldfund', 'GF');\n",
    "''')\n",
    "\n",
    "db.commit()"
   ]
  },
  {
   "cell_type": "code",
   "execution_count": null,
   "metadata": {
    "collapsed": true
   },
   "outputs": [],
   "source": [
    "# create table list of all actions that can be undertaken with funds\n",
    "crsr = db.cursor()\n",
    "\n",
    "crsr.execute('''\n",
    "    CREATE TABLE IF NOT EXISTS budget_pots (\n",
    "        key TEXT PRIMARY KEY,\n",
    "        description TEXT,\n",
    "        type TEXT\n",
    "    );\n",
    "''')\n",
    "\n",
    "crsr.execute('''\n",
    "    INSERT INTO budget_pots\n",
    "    VALUES ('L', 'Lebensmittel', NULL),\n",
    "           ('A', 'Ausgehen Restaurant', NULL),\n",
    "           ('AE', 'Ausgehen Eis, Cafe', 'A'),\n",
    "           ('AB', 'Ausgehen Döner, Bistro, ...', 'A'),\n",
    "           ('AM', 'Mensa, Kantine, Kasino', NULL),\n",
    "           ('S', 'Langlebige Produkte', NULL),\n",
    "           ('SK', 'Klamotten', 'S'),\n",
    "           ('R', 'regelmäßige und budgetierte Ausgaben', NULL),\n",
    "           ('RM', 'Mietzahlungen', 'R'),\n",
    "           ('RV', 'Versicherungs- und Vertragsbeträge', 'R'),\n",
    "           ('RP', 'Pflichtbeiträge', 'R'),\n",
    "           ('D', 'Driogerieprodukte', NULL),\n",
    "           ('DA', 'Arzeneimittel','D'), \n",
    "           ('M', 'Miscellaneous', NULL),\n",
    "           ('T', 'Transportkosten','M');\n",
    "''')\n",
    "\n",
    "db.commit()"
   ]
  },
  {
   "cell_type": "code",
   "execution_count": null,
   "metadata": {
    "collapsed": true
   },
   "outputs": [],
   "source": [
    "crsr = db.cursor()\n",
    "\n",
    "crsr.execute('''\n",
    "    CREATE TABLE IF NOT EXISTS money_events (\n",
    "        id INTEGER PRIMARY KEY,\n",
    "        type TEXT,\n",
    "        description TEXT NOT NULL,\n",
    "        date TEXT NOT NULL,\n",
    "        FOREIGN KEY (type) REFERENCES event_types (type)\n",
    "    );\n",
    "''')\n",
    "\n",
    "db.commit()"
   ]
  },
  {
   "cell_type": "code",
   "execution_count": null,
   "metadata": {
    "collapsed": true
   },
   "outputs": [],
   "source": [
    "crsr = db.cursor()\n",
    "\n",
    "crsr.execute('''CREATE TABLE IF NOT EXISTS payments (\n",
    "        id INTEGER,\n",
    "        money_pot TEXT,\n",
    "        amount REAL,\n",
    "        additional_description TEXT,\n",
    "        effect_date TEXT, \n",
    "        FOREIGN KEY (id) REFERENCES money_events(id),\n",
    "        FOREIGN KEY (money_pot) REFERENCES money_pots (key)\n",
    "    );\n",
    "''')\n",
    "\n",
    "db.commit()"
   ]
  },
  {
   "cell_type": "code",
   "execution_count": null,
   "metadata": {
    "collapsed": true
   },
   "outputs": [],
   "source": [
    "crsr = db.cursor()\n",
    "\n",
    "crsr.execute('''CREATE TABLE IF NOT EXISTS recievings (\n",
    "        id INTEGER,\n",
    "        money_pot TEXT,\n",
    "        amount REAL,\n",
    "        additional_description TEXT,\n",
    "        budget_effect_date TEXT, \n",
    "        FOREIGN KEY (id) REFERENCES money_events(id),\n",
    "        FOREIGN KEY (money_pot) REFERENCES money_pots (key)\n",
    "    );\n",
    "''')\n",
    "\n",
    "db.commit()"
   ]
  },
  {
   "cell_type": "code",
   "execution_count": null,
   "metadata": {
    "collapsed": true
   },
   "outputs": [],
   "source": [
    "crsr = db.cursor()\n",
    "\n",
    "crsr.execute('''CREATE TABLE IF NOT EXISTS transfers (\n",
    "        id INTEGER,\n",
    "        money_pot_source TEXT,\n",
    "        money_pot_sink TEXT,\n",
    "        amount REAL,\n",
    "        additional_description TEXT,\n",
    "        effect_date TEXT, \n",
    "        FOREIGN KEY (id) REFERENCES money_events(id),\n",
    "        FOREIGN KEY (money_pot_source) REFERENCES money_pots (key),\n",
    "        FOREIGN KEY (money_pot_sink) REFERENCES money_pots (key)\n",
    "    );\n",
    "''')\n",
    "\n",
    "db.commit()"
   ]
  },
  {
   "cell_type": "code",
   "execution_count": null,
   "metadata": {
    "collapsed": true
   },
   "outputs": [],
   "source": [
    "crsr = db.cursor()\n",
    "\n",
    "crsr.execute('''\n",
    "    CREATE TABLE IF NOT EXISTS budget_events (\n",
    "        id INTEGER,\n",
    "        budget_pot TEXT NOT NULL,\n",
    "        amount REAL NOT NULL,\n",
    "        additional_description TEXT,\n",
    "        budget_effet_date TEXT,\n",
    "        FOREIGN KEY (id) REFERENCES money_events (id),\n",
    "        FOREIGN KEY (budget_pot) REFERENCES budget_pots (key)\n",
    "    );\n",
    "''')\n",
    "\n",
    "db.commit()"
   ]
  },
  {
   "cell_type": "code",
   "execution_count": null,
   "metadata": {
    "collapsed": true
   },
   "outputs": [],
   "source": [
    "crsr = db.cursor()\n",
    "\n",
    "crsr.execute('''\n",
    "    CREATE TABLE IF NOT EXISTS event_groups (\n",
    "        group_id INTEGER PRIMARY KEY,\n",
    "        description TEXT NOT NULL\n",
    "    );\n",
    "''')\n",
    "\n",
    "crsr.execute('''\n",
    "    CREATE TABLE IF NOT EXISTS event_in_group (\n",
    "        group_id INTEGER,\n",
    "        event_id TEXT UNIQUE,\n",
    "        FOREIGN KEY (group_id) REFERENCES event_groups (group_id),\n",
    "        FOREIGN KEY (event_id) REFERENCES money_events (id)\n",
    "    );\n",
    "''')\n",
    "\n",
    "db.commit()"
   ]
  },
  {
   "cell_type": "code",
   "execution_count": 1,
   "metadata": {},
   "outputs": [
    {
     "ename": "NameError",
     "evalue": "name 'crsr' is not defined",
     "output_type": "error",
     "traceback": [
      "\u001b[0;31m---------------------------------------------------------------------------\u001b[0m",
      "\u001b[0;31mNameError\u001b[0m                                 Traceback (most recent call last)",
      "\u001b[0;32m<ipython-input-1-9b51aa069eb6>\u001b[0m in \u001b[0;36m<module>\u001b[0;34m()\u001b[0m\n\u001b[0;32m----> 1\u001b[0;31m crsr.execute('''\n\u001b[0m\u001b[1;32m      2\u001b[0m     \u001b[0mINSERT\u001b[0m \u001b[0mINTO\u001b[0m \u001b[0mevent_groups\u001b[0m\u001b[0;34m\u001b[0m\u001b[0m\n\u001b[1;32m      3\u001b[0m     \u001b[0mVALUES\u001b[0m \u001b[0;34m(\u001b[0m\u001b[0;36m1\u001b[0m\u001b[0;34m,\u001b[0m \u001b[0;34m'Miete'\u001b[0m\u001b[0;34m)\u001b[0m\u001b[0;34m,\u001b[0m\u001b[0;34m\u001b[0m\u001b[0m\n\u001b[1;32m      4\u001b[0m            \u001b[0;34m(\u001b[0m\u001b[0;36m2\u001b[0m\u001b[0;34m,\u001b[0m \u001b[0;34m'Haftpflichtversicherung'\u001b[0m\u001b[0;34m)\u001b[0m\u001b[0;34m,\u001b[0m\u001b[0;34m\u001b[0m\u001b[0m\n\u001b[1;32m      5\u001b[0m            \u001b[0;34m(\u001b[0m\u001b[0;36m3\u001b[0m\u001b[0;34m,\u001b[0m \u001b[0;34m'Berufsunfähigkeitsversicherung'\u001b[0m\u001b[0;34m)\u001b[0m\u001b[0;34m,\u001b[0m\u001b[0;34m\u001b[0m\u001b[0m\n",
      "\u001b[0;31mNameError\u001b[0m: name 'crsr' is not defined"
     ]
    }
   ],
   "source": [
    "crsr.execute('''\n",
    "    INSERT INTO event_groups\n",
    "    VALUES (1, 'Miete'),\n",
    "           (2, 'Haftpflichtversicherung'),\n",
    "           (3, 'Berufsunfähigkeitsversicherung'),\n",
    "           (4, 'Strom'),\n",
    "           (5, 'Vodafone'),\n",
    "           (6, 'Drillisch Paul'),\n",
    "           (7, 'Drillisch Max'),\n",
    "           (8, 'Apple Music Paul'),\n",
    "           (9, 'Spotify Max'),\n",
    "           (10, 'Backblaze'),\n",
    "           (11, 'Semestergebühr Paul'),\n",
    "           (12, 'Semestergebühr Max'),\n",
    "           (13, 'Sportjahresgebühr'),\n",
    "           (14, 'Sport'),\n",
    "           (15, 'GEW'),\n",
    "           (16, 'GEZ');\n",
    "''')"
   ]
  },
  {
   "cell_type": "code",
   "execution_count": null,
   "metadata": {
    "collapsed": true
   },
   "outputs": [],
   "source": [
    "crsr = db.cursor()\n",
    "\n",
    "crsr.execute('''\n",
    "    CREATE TABLE IF NOT EXISTS database_event_types (\n",
    "        type TEXT PRIMARY KEY,\n",
    "        description TEXT\n",
    "    );\n",
    "''')\n",
    "\n",
    "crsr.execute('''\n",
    "    INSERT INTO budget_pots\n",
    "    VALUES ('Erstellung', 'Erstellung eines Eintrages'),\n",
    "           ('Update', 'Hinzufügen von Information'),\n",
    "           ('Korrektur', 'Korrigieren eines Eintrages'),\n",
    "           ('Löschung', 'Löschen eines Eintrages');\n",
    "''')\n",
    "\n",
    "crsr.execute('''\n",
    "    CREATE TABLE IF NOT EXISTS database_events (\n",
    "        id INTEGER,\n",
    "        type TEXT,\n",
    "        date TEXT,\n",
    "        description TEXT,\n",
    "        FOREIGN KEY (id) REFERENCES money_events (id),\n",
    "        FOREIGN KEY (type) REFERENCES database_event_types (type)\n",
    "    );\n",
    "''')\n",
    "\n",
    "db.commit()"
   ]
  },
  {
   "cell_type": "code",
   "execution_count": null,
   "metadata": {
    "collapsed": true
   },
   "outputs": [],
   "source": [
    "### printing all the tables\n",
    "#   the table sqlite_master is autocreated apparently\n",
    "\n",
    "db = sql.connect('my-budget-v0.sqlite')\n",
    "crsr = db.cursor()\n",
    "display(pd.read_sql_query(\"SELECT name FROM sqlite_master WHERE type='table';\", db))"
   ]
  },
  {
   "cell_type": "code",
   "execution_count": null,
   "metadata": {
    "collapsed": true
   },
   "outputs": [],
   "source": [
    "# read a full table into a pandas data framd\n",
    "crsr = db.cursor()\n",
    "crsr.execute(\"SELECT name FROM sqlite_master WHERE type='table';\")\n",
    "\n",
    "for table in crsr.fetchall() :\n",
    "    display(pd.read_sql_query('SELECT * FROM {};'.format(table[0]), db))"
   ]
  },
  {
   "cell_type": "code",
   "execution_count": null,
   "metadata": {
    "collapsed": true
   },
   "outputs": [],
   "source": [
    "# The nuclear option\n",
    "crsr = db.cursor()\n",
    "crsr.execute(\"SELECT name FROM sqlite_master WHERE type='table';\")\n",
    "\n",
    "for table in crsr.fetchall() :\n",
    "    crsr.execute('DROP TABLE {};'.format(table[0]))\n",
    "\n",
    "db.commit()"
   ]
  },
  {
   "cell_type": "code",
   "execution_count": 16,
   "metadata": {
    "collapsed": true
   },
   "outputs": [],
   "source": [
    "db.close()"
   ]
  },
  {
   "cell_type": "code",
   "execution_count": null,
   "metadata": {
    "collapsed": true
   },
   "outputs": [],
   "source": []
  }
 ],
 "metadata": {
  "kernelspec": {
   "display_name": "Python 3",
   "language": "python",
   "name": "python3"
  },
  "language_info": {
   "codemirror_mode": {
    "name": "ipython",
    "version": 3
   },
   "file_extension": ".py",
   "mimetype": "text/x-python",
   "name": "python",
   "nbconvert_exporter": "python",
   "pygments_lexer": "ipython3",
   "version": "3.6.2"
  }
 },
 "nbformat": 4,
 "nbformat_minor": 2
}
