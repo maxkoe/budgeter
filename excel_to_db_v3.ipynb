{
 "cells": [
  {
   "cell_type": "code",
   "execution_count": 1,
   "metadata": {
    "collapsed": true
   },
   "outputs": [],
   "source": [
    "%load_ext autoreload\n",
    "%autoreload 2"
   ]
  },
  {
   "cell_type": "code",
   "execution_count": 7,
   "metadata": {
    "collapsed": true
   },
   "outputs": [],
   "source": [
    "import openpyxl as pyxl\n",
    "import pandas as pd\n",
    "import numpy as np\n",
    "\n",
    "from bidict import bidict\n",
    "\n",
    "from excel_helpers import *\n",
    "from db_entries import *\n",
    "from unified_excel_sheet import *\n",
    "\n",
    "import re\n",
    "from itertools import chain\n",
    "# we only need the function datetime.datetime.now; we can now reference it as dt.now\n",
    "from datetime import datetime as dt\n",
    "\n",
    "import sqlite3 as sql\n",
    "\n",
    "import logging\n",
    "logger = logging.getLogger()"
   ]
  },
  {
   "cell_type": "code",
   "execution_count": 8,
   "metadata": {
    "collapsed": true
   },
   "outputs": [],
   "source": [
    "%%capture\n",
    "\n",
    "db_filename = 'my-budget-dev-v3.sqlite'\n",
    "\n",
    "%run nuclear_option.py $db_filename\n",
    "%run database_setup.py $db_filename\n",
    "\n",
    "db = sql.connect(db_filename)\n",
    "\n",
    "event_groups_df = pd.read_sql('SELECT * FROM event_groups', db, index_col='group_id')"
   ]
  },
  {
   "cell_type": "code",
   "execution_count": 9,
   "metadata": {
    "collapsed": true
   },
   "outputs": [],
   "source": [
    "excel_filename = 'GemeinsameBilanzierung_16_17__dev.xlsx'\n",
    "\n",
    "current_sheet_name = 'August'\n",
    "comment_sheet_name = 'august_'\n",
    "\n",
    "# We take here the option data_only since for now we are not interested in the expression\n",
    "wb = pyxl.load_workbook(excel_filename, data_only=True)\n",
    "\n",
    "\n",
    "cuurent_sheet = wb.get_sheet_by_name(current_sheet_name)\n",
    "comment_sheet = wb.copy_worksheet(august)\n",
    "comment_sheet.title = comment_sheet_name\n",
    "comment_sheet.sheet_state = 'hidden'"
   ]
  },
  {
   "cell_type": "code",
   "execution_count": null,
   "metadata": {
    "collapsed": true
   },
   "outputs": [],
   "source": [
    "col_titles_budget = ['budget_pot', 'description', 'date', 'amount', 'excel_range']\n",
    "col_titles_payments = ['description', 'date', 'amount', 'excel_range']\n",
    "\n",
    "budgeting = get_df_by_range(august_, 'A6', 'D130', 2)\n",
    "budgeting.columns = col_titles_budget\n",
    "\n",
    "max_bargeld = get_df_by_range(august_, 'H7', 'J130', 1)\n",
    "max_bargeld.columns = col_titles_payments\n",
    "max_bargeld['money_pot'] = 'BM'\n",
    "\n",
    "paul_bargeld = get_df_by_range(august_, 'K7', 'M130', 1)\n",
    "paul_bargeld.columns = col_titles_payments\n",
    "paul_bargeld['money_pot'] = 'BP'\n",
    "\n",
    "konto = get_df_by_range(august_, 'N7', 'P130', 1)\n",
    "konto.columns = col_titles_payments\n",
    "konto['money_pot'] = 'KG'\n",
    "\n",
    "all_payments = pd.concat([max_bargeld, paul_bargeld, konto])\n",
    "\n",
    "all_info = pd.merge(budgeting, all_payments, how='outer', \n",
    "                    on=['description', 'date', 'amount'], indicator=True)\n",
    "\n",
    "all_info['treated'] = 'No'\n",
    "\n",
    "all_info['date'] = all_info['date'].dt.date\n",
    "all_info['amount'] = all_info['amount'].round(2)"
   ]
  },
  {
   "cell_type": "code",
   "execution_count": null,
   "metadata": {
    "collapsed": true
   },
   "outputs": [],
   "source": [
    "## Creating Data for Bargeld Payments data\n",
    "\n",
    "rules = [{'_merge' : 'both', 'money_pot' : B,  'treated' : 'No'} for B in ['BM', 'BP']]\n",
    "full_match_bargeld = multirule_subset(all_info, rules)\n",
    "\n",
    "bargeld_wb_filename = 'bargeld_payments.xlsx'\n",
    "\n",
    "definition_data = 'base_excel.json'\n",
    "\n",
    "with open(definition_data) as f :\n",
    "    json_data = f.read()\n",
    "    sheet_def = json.loads(json_data)\n",
    "\n",
    "sheet_def['main_sheet']['type_description']['default'] = 'Barzahlung'\n",
    "sheet_def['main_sheet']['is_budget_event']['default'] = 'X'\n",
    "sheet_def['main_sheet']['is_payment']['default'] = 'X'\n",
    "sheet_def['main_sheet']['ignore']['default'] = ''\n",
    "\n",
    "sheet_def['main_sheet']['temporary_id']['hidden'] = True\n",
    "sheet_def['main_sheet']['is_transfer']['hidden'] = True\n",
    "sheet_def['main_sheet']['is_recieving']['hidden'] = True\n",
    "sheet_def['main_sheet']['money_pot_sink']['hidden'] = True\n",
    "sheet_def['main_sheet']['money_sink_name']['hidden'] = True\n",
    "\n",
    "create_excel_table_from_data(full_match_bargeld, bargeld_wb_filename, db, sheet_def)\n",
    "checked_full_match_bargeld = use_excel_for_data_entry(bargeld_wb_filename, copy_mode=False)"
   ]
  },
  {
   "cell_type": "code",
   "execution_count": null,
   "metadata": {
    "collapsed": true
   },
   "outputs": [],
   "source": [
    "## create empy dataframe first\n",
    "untreated_data = checked_full_match_bargeld[checked_full_match_bargeld['treated'] == '']\n",
    "\n",
    "for index, row in checked_full_match_bargeld.iterrows() :\n",
    "    if row['ignore'] == 'X' :\n",
    "        untreated_data = untreated_data.append(checked_full_match_bargeld.loc[index])\n",
    "        continue\n",
    "    elif not np.isnan(row['temporary_id']) : \n",
    "        raise NotImplementedError('The grouping of events by ID is not implemented yet.')\n",
    "    \n",
    "    the_id = automatically_enter_payment_row(row['date'], 'Barzahlung', \n",
    "        row['description'], row['amount'], row['money_pot'], \n",
    "        row['budget_pot'], [row['excel_range_x'], row['excel_range_y']],\n",
    "        excel_filename, august, august_, db_filename)\n",
    "    \n",
    "    if not np.isnan(row['in_group']) :\n",
    "        crsr = db.cursor()\n",
    "        if row['in_group'] not in event_groups_df.index :\n",
    "            if row['group_name'][0] == '=' :\n",
    "                raise ValueError(\n",
    "                    \"You should not use a formula as group name! The given group name was {}.\".format(\n",
    "                        row['group_name']))\n",
    "            crsr.execute('INSERT INTO event_groups VALUES ({}, \"{}\")'.format(\n",
    "                row['in_group'], row['group_name']))\n",
    "        crsr.execute('INSERT INTO event_in_group VALUES ({}, {})'.format(row['in_group'], the_id))\n",
    "        db.commit()\n",
    "    \n",
    "    all_info.loc[index, 'treated'] = 'Yes'"
   ]
  },
  {
   "cell_type": "code",
   "execution_count": null,
   "metadata": {
    "collapsed": true
   },
   "outputs": [],
   "source": [
    "## For the \"GK\" (Gemeinsames Konto) Payments we create an excel sheet, where we can change the payment type\n",
    "subsetting_rules = {'_merge' : 'both', 'money_pot' : 'KG',  'treated' : 'No'}\n",
    "full_match_konto = subset_data_frame(all_info, subsetting_rules)\n",
    "\n",
    "konto_wb_filename = 'konto_payments.xlsx'\n",
    "\n",
    "definition_data = 'base_excel.json'\n",
    "\n",
    "with open(definition_data) as f :\n",
    "    json_data = f.read()\n",
    "    sheet_def = json.loads(json_data)\n",
    "\n",
    "sheet_def['main_sheet']['type_description']['default'] = 'Kartenzahlung'\n",
    "sheet_def['main_sheet']['is_budget_event']['default'] = 'X'\n",
    "sheet_def['main_sheet']['is_payment']['default'] = 'X'\n",
    "sheet_def['main_sheet']['ignore']['default'] = ''\n",
    "\n",
    "sheet_def['main_sheet']['temporary_id']['hidden'] = True\n",
    "sheet_def['main_sheet']['is_transfer']['hidden'] = True\n",
    "sheet_def['main_sheet']['is_recieving']['hidden'] = True\n",
    "sheet_def['main_sheet']['money_pot_sink']['hidden'] = True\n",
    "sheet_def['main_sheet']['money_sink_name']['hidden'] = True\n",
    "\n",
    "create_excel_table_from_data(full_match_konto, konto_wb_filename, db, sheet_def)\n",
    "checked_full_match_konto = use_excel_for_data_entry(konto_wb_filename, copy_mode=False)"
   ]
  },
  {
   "cell_type": "code",
   "execution_count": null,
   "metadata": {
    "collapsed": true
   },
   "outputs": [],
   "source": [
    "for index, row in checked_full_match_konto.iterrows() :\n",
    "    if row['ignore'] == 'X' :\n",
    "        untreated_data = untreated_data.append(checked_full_match_konto.loc[index])\n",
    "        continue\n",
    "    elif not np.isnan(row['temporary_id']) : \n",
    "        raise NotImplementedError('The grouping of events by ID is not implemented yet.')\n",
    "    \n",
    "    the_id = automatically_enter_payment_row(row['date'], 'Barzahlung', \n",
    "        row['description'], row['amount'], row['money_pot'], \n",
    "        row['budget_pot'], [row['excel_range_x'], row['excel_range_y']],\n",
    "        excel_filename, august, august_, db_filename)\n",
    "    \n",
    "    if not np.isnan(row['in_group']) :\n",
    "        crsr = db.cursor()\n",
    "        if row['in_group'] not in event_groups_df.index :\n",
    "            if row['group_name'][0] == '=' :\n",
    "                raise ValueError(\n",
    "                    \"You should not use a formula as group name! The given group name was {}.\".format(\n",
    "                        row['group_name']))\n",
    "            crsr.execute('INSERT INTO event_groups VALUES ({}, \"{}\")'.format(\n",
    "                row['in_group'], row['group_name']))\n",
    "        crsr.execute('INSERT INTO event_in_group VALUES ({}, {})'.format(row['in_group'], the_id))\n",
    "        db.commit()\n",
    "    \n",
    "    all_info.loc[index, 'treated'] = 'Yes'"
   ]
  },
  {
   "cell_type": "code",
   "execution_count": null,
   "metadata": {
    "collapsed": true
   },
   "outputs": [],
   "source": [
    "## List of all fully matched things we didnt treat yet\n",
    "subsetting_rules = {'_merge' : 'both', 'treated' : 'No'}\n",
    "remaining_matched = subset_data_frame(all_info, subsetting_rules)\n",
    "\n",
    "display(remaining_matched)\n",
    "display(untreated_data)"
   ]
  },
  {
   "cell_type": "code",
   "execution_count": null,
   "metadata": {
    "collapsed": true
   },
   "outputs": [],
   "source": [
    "## For the \"GK\" (Gemeinsames Konto) Payments we create an excel sheet, where we can change the payment type\n",
    "subsetting_rules = {'treated' : 'No'}\n",
    "remaining = subset_data_frame(all_info, subsetting_rules)\n",
    "remaining = remaining.loc[remaining.index.difference(untreated_data.index)]\n",
    "\n",
    "wb_filename = 'remaining.xlsx'\n",
    "definition_data = 'base_excel.json'\n",
    "\n",
    "create_excel_table_from_data(remaining, wb_filename, db, definition_data)\n",
    "checked_remaining = use_excel_for_data_entry(wb_filename, copy_mode=False)"
   ]
  },
  {
   "cell_type": "code",
   "execution_count": null,
   "metadata": {
    "collapsed": true
   },
   "outputs": [],
   "source": [
    "temporary_id_lookup = {}\n",
    "\n",
    "for index, row in checked_remaining.iterrows() :\n",
    "    if row['ignore'] == 'X' :\n",
    "        untreated_data = untreated_data.append(checked_full_match_konto.loc[index])\n",
    "        continue\n",
    "        \n",
    "    excel_ranges = ([] if np.isnan(row['excel_range_x']) else [row['excel_range_x']]) + \\\n",
    "                   ([] if np.isnan(row['excel_range_y']) else [row['excel_range_y']])\n",
    "    \n",
    "    if not np.isnan(row['temporary_id']) and row['temporary_id'] in temporary_id_lookup :\n",
    "        the_id = temporary_id_lookup[row['temporary_id']]\n",
    "    else :\n",
    "        the_id = create_money_event(db, row['type_description'], row['description'], row['date'])\n",
    "        \n",
    "\n",
    "        full_excel_ranges = [current_sheet.title + '!' + a_range for a_range in excel_ranges]\n",
    "    \n",
    "        database_comment = autogenerate_database_comment_multiple_excel_ranges(\n",
    "            excel_filename, full_excel_ranges, comment_sheet.title)\n",
    "        \n",
    "        add_database_event(db, the_id, database_comment)\n",
    "        \n",
    "        if not np.isnan(row['temporary_id']) :\n",
    "            temporary_id_lookup[row['temporary_id']] = the_id\n",
    "    \n",
    "    ## ToDo : Add commenting into database and Excel\n",
    "    \n",
    "    if row['is_budget_event'] == 'X' :\n",
    "        add_budget_event(db, the_id, row['budget_pot'], row['amount'])\n",
    "    if row['is_payment'] == 'X' :\n",
    "        add_payment(db, the_id, row['money_pot'], row['amount'])\n",
    "    if row['is_recieving'] == 'X' :\n",
    "        add_payment(db, the_id, row['money_pot'], row['amount'])\n",
    "    if row['is_transfer'] == 'X' :\n",
    "        add_payment(db, the_id, row['money_pot'], row['money_pot_sink'], row['amount'])\n",
    "    \n",
    "    if not np.isnan(row['in_group']) :  \n",
    "        if row['in_group'] not in event_groups_df.index :\n",
    "            if row['group_name'][0] == '=' :\n",
    "                raise ValueError(\n",
    "                    \"You should not use a formula as group name! The given group name was {}.\".format(\n",
    "                        row['group_name']))\n",
    "            crsr = db.cursor()\n",
    "            crsr.execute('INSERT INTO event_groups VALUES ({}, \"{}\")'.format(\n",
    "                row['in_group'], row['group_name']))\n",
    "            db.commit()\n",
    "            event_groups_df = pd.read_sql('SELECT * FROM event_groups', db, index_col='group_id')\n",
    "            \n",
    "        crsr = db.cursor()\n",
    "        crsr.execute('INSERT INTO event_in_group VALUES ({}, {})'.format(row['in_group'], the_id))\n",
    "        db.commit()\n",
    "    \n",
    "    excel_comment = autogenerate_excel_comment(dt.now().strftime('%Y-%m-%d'), db_filename, the_id)\n",
    "    excel_cell_list = list(chain.from_iterable([list_from_range_string(a_range) for a_range in ranges]))\n",
    "    put_comment_into_excel(comment_sheet, excel_cell_list, excel_comment)\n",
    "    \n",
    "    all_info.loc[index, 'treated'] = 'Yes'"
   ]
  },
  {
   "cell_type": "code",
   "execution_count": null,
   "metadata": {
    "collapsed": true
   },
   "outputs": [],
   "source": [
    "wb.save('GemBil.xlsx')"
   ]
  },
  {
   "cell_type": "code",
   "execution_count": null,
   "metadata": {
    "collapsed": true
   },
   "outputs": [],
   "source": [
    "db.close()"
   ]
  },
  {
   "cell_type": "code",
   "execution_count": null,
   "metadata": {
    "collapsed": true
   },
   "outputs": [],
   "source": []
  }
 ],
 "metadata": {
  "kernelspec": {
   "display_name": "Python 3",
   "language": "python",
   "name": "python3"
  },
  "language_info": {
   "codemirror_mode": {
    "name": "ipython",
    "version": 3
   },
   "file_extension": ".py",
   "mimetype": "text/x-python",
   "name": "python",
   "nbconvert_exporter": "python",
   "pygments_lexer": "ipython3",
   "version": "3.6.2"
  }
 },
 "nbformat": 4,
 "nbformat_minor": 2
}
