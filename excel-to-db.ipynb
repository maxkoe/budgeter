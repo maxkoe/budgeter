{
 "cells": [
  {
   "cell_type": "code",
   "execution_count": null,
   "metadata": {
    "collapsed": true
   },
   "outputs": [],
   "source": [
    "import openpyxl as pyxl\n",
    "import pandas as pd\n",
    "from gspread.utils import a1_to_rowcol, rowcol_to_a1\n",
    "\n",
    "import re\n",
    "from itertools import product\n",
    "# we only need the function datetime.datetime.now; we can now reference it as dt.now\n",
    "from datetime import datetime as dt\n",
    "\n",
    "import sqlite3 as sql"
   ]
  },
  {
   "cell_type": "code",
   "execution_count": null,
   "metadata": {},
   "outputs": [],
   "source": [
    "db_filename = 'my-budget-dev-v0.sqlite'\n",
    "\n",
    "%run nuclear_option.py $db_filename\n",
    "%run database_setup.py $db_filename\n",
    "\n",
    "db = sql.connect(db_filename)"
   ]
  },
  {
   "cell_type": "code",
   "execution_count": null,
   "metadata": {
    "collapsed": true
   },
   "outputs": [],
   "source": [
    "excel_filename = 'GemeinsameBilanzierung_16_17__dev.xlsx'\n",
    "\n",
    "current_sheet = 'August'\n",
    "comment_sheet = 'august_'\n",
    "\n",
    "wb = pyxl.load_workbook(excel_filename)\n",
    "\n",
    "\n",
    "august = wb.get_sheet_by_name(current_sheet)\n",
    "august_ = wb.copy_worksheet(august)\n",
    "august_.title = comment_sheet\n",
    "august_.sheet_state = 'hidden'"
   ]
  },
  {
   "cell_type": "code",
   "execution_count": null,
   "metadata": {
    "collapsed": true
   },
   "outputs": [],
   "source": [
    "def list_from_range_string(range_string) :\n",
    "    '''Extract all individual cell names from a excel range.\n",
    "    \n",
    "    Keyword arguments:\n",
    "        range_string - The excel expression for the range\n",
    "    \n",
    "    Example:\n",
    "        If range_string == 'A1:B3' then the list ['A1', 'B1', 'A2', 'B2', 'A3', 'B3'] is returned\n",
    "    '''\n",
    "    colon_position = range_string.find(':')\n",
    "    if colon_position == -1 :\n",
    "        raise\n",
    "    first_cell = range_string[:colon_position]\n",
    "    last_cell = range_string[colon_position+1:]\n",
    "    \n",
    "    first_row, first_col = a1_to_rowcol(first_cell)\n",
    "    last_row, last_col = a1_to_rowcol(last_cell)\n",
    "    \n",
    "    return [rowcol_to_a1(i,j) for i,j in product(range(first_row, last_row+1), range(first_col, last_col+1))]"
   ]
  },
  {
   "cell_type": "code",
   "execution_count": null,
   "metadata": {
    "collapsed": true
   },
   "outputs": [],
   "source": [
    "def generate_id(date) :\n",
    "    '''Generate a new unique ID in the budgeter on the database. An ID is an integer with 8 digits, where \n",
    "    the first digit are based on the date and the last two digits are a serial number.\n",
    "    \n",
    "    Keyword arguments:\n",
    "        date - the date on which the ID should be based\n",
    "        \n",
    "    Example: \n",
    "        If date==DateTime('2017-08-17') and the database contains the IDs \n",
    "        2017081701, 2017081702, 2017081703 and 2017081705, then the id 2017081704 is returned.\n",
    "    \n",
    "    Exceptions:\n",
    "        IndexError - if all 99 possible serial numbers (01-99) have already been distributed.\n",
    "        \n",
    "        N.B. Could also Except, if the Database Call raises an exception.\n",
    "    '''\n",
    "    date_int = int(date.strftime('%Y%m%d00'))\n",
    "    crsr = db.cursor()\n",
    "    crsr.execute('SELECT id FROM money_events WHERE id BETWEEN {} AND {}'.format(date_int, date_int + 99))\n",
    "    results = [row[0] for row in crsr.fetchall()]\n",
    "\n",
    "    current_id = date_int + 1\n",
    "    while current_id in results :\n",
    "        current_id += 1\n",
    "    if current_id > date_int + 99 :\n",
    "        raise IndexError('Encountered to many ids for the date {}'.format(date))\n",
    "\n",
    "    return current_id"
   ]
  },
  {
   "cell_type": "code",
   "execution_count": null,
   "metadata": {
    "collapsed": true
   },
   "outputs": [],
   "source": [
    "def date_convert(item) :\n",
    "    '''Try to get a DateTime from the excel cell, independent if it is represented by an integer, i.e. in \n",
    "    the native excel date format, or a string representation\n",
    "    '''\n",
    "    try :\n",
    "          return pyxl.utils.datetime.from_excel(item)\n",
    "    except :\n",
    "        if type(item) is str :\n",
    "            return pd.to_datetime(item)\n",
    "        else :\n",
    "            return pd.Timestamp(item)\n",
    "        #pass\n",
    "            \n",
    "\n",
    "def get_df_by_range(sheet, first_cell, last_cell, date_cols=None) :\n",
    "    '''Read a given range on the given sheet and return a DataFrame containing the data.\n",
    "    \n",
    "    Keyword arguments:\n",
    "        sheet      - a openpyxl sheet object which is to be read\n",
    "        first_cell - the top left cell of the range to be read; in excel cell notation\n",
    "        last_cell  - the bottom right cell of the range to be read; in excel cell notation\n",
    "        date_cols  - a column (or list of columns) which are assumed to contain dates and shall be returned\n",
    "                     as pandas Timestamp object; can be given either as number (starting in zero) or a excel\n",
    "                     column name\n",
    "                     \n",
    "        ToDo : Look if starting in zero is correct \n",
    "    '''\n",
    "    data_rows = [[cell.value for cell in row] + ['{0}:{1}'.format(row[0].coordinate, row[-1].coordinate)]\n",
    "        for row in august[first_cell:last_cell]]\n",
    "\n",
    "    df = pd.DataFrame(data_rows)\n",
    "    new_index = df.iloc[:,range(len(df.columns)-1)].dropna(how='all').index\n",
    "    if date_cols is not None and type(date_cols) is int :\n",
    "        df.iloc[:,date_cols] = df.iloc[:,date_cols].apply(date_convert).copy()\n",
    "    elif type(date_cols) is str : \n",
    "        df.loc[:,date_cols] = df.loc[:,date_cols].apply(date_convert).copy()\n",
    "    elif type(date_cols) is list :\n",
    "        for col in date_cols :\n",
    "            if type(col) is int :\n",
    "                df.iloc[:,col] = df.iloc[:,col].apply(date_convert).copy()\n",
    "            if type(col) is str : \n",
    "                df.loc[:,col] = df.loc[:,col].apply(date_convert).copy()\n",
    "    return df.loc[new_index]"
   ]
  },
  {
   "cell_type": "code",
   "execution_count": null,
   "metadata": {
    "collapsed": true
   },
   "outputs": [],
   "source": [
    "budgeting = get_df_by_range(august_, 'A6', 'D130', 2)\n",
    "budgeting.columns = ['budget_type', 'description', 'date', 'amount', 'excel_range']\n",
    "\n",
    "col_titles = ['description', 'date', 'amount', 'excel_range']\n",
    "\n",
    "max_bargeld = get_df_by_range(august_, 'H7', 'J130', 1)\n",
    "max_bargeld.columns = col_titles\n",
    "max_bargeld['money_pot'] = 'BM'\n",
    "\n",
    "paul_bargeld = get_df_by_range(august_, 'K7', 'M130', 1)\n",
    "paul_bargeld.columns = col_titles\n",
    "paul_bargeld['money_pot'] = 'BM'\n",
    "\n",
    "konto = get_df_by_range(august_, 'N7', 'P130', 1)\n",
    "konto.columns = col_titles\n",
    "konto['money_pot'] = 'KG'\n",
    "\n",
    "conjoined = pd.concat([max_bargeld, paul_bargeld, konto])"
   ]
  },
  {
   "cell_type": "code",
   "execution_count": null,
   "metadata": {
    "collapsed": true
   },
   "outputs": [],
   "source": [
    "all_info = pd.merge(budgeting, conjoined, how='outer', \n",
    "                    on=['description', 'date', 'amount'], indicator=True)\n",
    "\n",
    "perfect_result = all_info[all_info['_merge'] == 'both']"
   ]
  },
  {
   "cell_type": "code",
   "execution_count": null,
   "metadata": {},
   "outputs": [],
   "source": [
    "#display(perfect_result)\n",
    "\n",
    "for index, row in perfect_result.iterrows() :\n",
    "    database_comment = '''This entry was automatically generated on {} from the excel file {}. It is based \n",
    "                          on the cells {} and {}. A note has been added to the respective cells in the sheet {}.\n",
    "                       '''.format(dt.now().strftime('%Y-%m-%d'), excel_filename, \n",
    "                               current_sheet + '!' + row['excel_range_x'],\n",
    "                               current_sheet + '!' + row['excel_range_y'], comment_sheet)\n",
    "    \n",
    "    the_id = generate_id(row['date'])\n",
    "    \n",
    "    crsr = db.cursor()\n",
    "    # ToDo : Hier machen wir die simplifizierende Annahme, dass alle Konto-Events Kartenzahlungen sind\n",
    "    crsr.execute('''INSERT INTO money_events VALUES ({}, \"{}\", \"{}\", datetime(\"{}\"), NULL, \"{}\", NULL);'''.format(the_id, \n",
    "        'Kartenzahlung' if row['money_pot'] == 'KG' else 'Barzahlung', row['description'], row['date'], \n",
    "        database_comment))\n",
    "    crsr.execute('''INSERT INTO payments VALUES ({}, \"{}\", {}, NULL, NULL, NULL, NULL);'''.format(the_id, \n",
    "        row['money_pot'], row['amount']))\n",
    "    crsr.execute('''INSERT INTO budget_events VALUES ({}, \"{}\", {}, NULL, NULL, NULL, NULL);'''.format(the_id, \n",
    "        row['budget_type'], row['amount']))\n",
    "    db.commit()\n",
    "   \n",
    "    comment_text = '''On {} this cell was automatically read and inserted into the database {}. The id of \n",
    "                      the entry is {}.'''.format(dt.now().strftime('%Y-%m-%d'), db_filename, the_id)\n",
    "    comment = pyxl.comments.Comment(comment_text, 'budgeter')\n",
    "    for cell in list_from_range_string(row['excel_range_x']) + \\\n",
    "                list_from_range_string(row['excel_range_y']) :\n",
    "        august_[cell].comment = comment\n",
    "        \n",
    "for table in ['money_events', 'payments', 'budget_events'] :\n",
    "    print('The table {}: '.format(table[0]))\n",
    "    display(pd.read_sql_query('SELECT * FROM {};'.format(table[0]), db))"
   ]
  },
  {
   "cell_type": "code",
   "execution_count": null,
   "metadata": {
    "collapsed": true
   },
   "outputs": [],
   "source": [
    "for index, row in perfect_result.iterrows() :\n",
    "    comment_text = 'This comment template is just a test.' + \\\n",
    "                   'The id is {} from the df row {}.'.format(id_generation(row['date']), index)\n",
    "    comment = pyxl.comments.Comment(comment_text, 'budgeter')\n",
    "    for cell in list_from_range_string(row['excel_range_x']) + \\\n",
    "                list_from_range_string(row['excel_range_y']) :\n",
    "        august_[cell].comment = comment    "
   ]
  },
  {
   "cell_type": "code",
   "execution_count": null,
   "metadata": {
    "collapsed": true
   },
   "outputs": [],
   "source": [
    "wb.save('GemBil.xlsx')"
   ]
  },
  {
   "cell_type": "code",
   "execution_count": null,
   "metadata": {
    "collapsed": true
   },
   "outputs": [],
   "source": [
    "db.close()"
   ]
  },
  {
   "cell_type": "code",
   "execution_count": null,
   "metadata": {
    "collapsed": true
   },
   "outputs": [],
   "source": []
  }
 ],
 "metadata": {
  "kernelspec": {
   "display_name": "Python 3",
   "language": "python",
   "name": "python3"
  },
  "language_info": {
   "codemirror_mode": {
    "name": "ipython",
    "version": 3
   },
   "file_extension": ".py",
   "mimetype": "text/x-python",
   "name": "python",
   "nbconvert_exporter": "python",
   "pygments_lexer": "ipython3",
   "version": "3.6.2"
  }
 },
 "nbformat": 4,
 "nbformat_minor": 2
}
