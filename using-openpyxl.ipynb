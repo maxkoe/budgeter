{
 "cells": [
  {
   "cell_type": "code",
   "execution_count": 1,
   "metadata": {
    "collapsed": true
   },
   "outputs": [],
   "source": [
    "import openpyxl as pyxl\n",
    "import pandas as pd\n",
    "from gspread.utils import a1_to_rowcol, rowcol_to_a1\n",
    "\n",
    "import re\n",
    "from itertools import product"
   ]
  },
  {
   "cell_type": "code",
   "execution_count": 2,
   "metadata": {},
   "outputs": [],
   "source": [
    "wb = pyxl.load_workbook('GemeinsameBilanzierung_16_17.xlsx')\n",
    "august = wb.get_sheet_by_name('August')\n",
    "august_ = wb.copy_worksheet(august)\n",
    "august_.title = 'august_'\n",
    "august_.sheet_state = 'hidden'"
   ]
  },
  {
   "cell_type": "code",
   "execution_count": 3,
   "metadata": {},
   "outputs": [],
   "source": [
    "def list_from_range_string(range_string) :\n",
    "    colon_position = range_string.find(':')\n",
    "    if colon_position == -1 :\n",
    "        raise\n",
    "    first_cell = range_string[:colon_position]\n",
    "    last_cell = range_string[colon_position+1:]\n",
    "    \n",
    "    first_row, first_col = a1_to_rowcol(first_cell)\n",
    "    last_row, last_col = a1_to_rowcol(last_cell)\n",
    "    \n",
    "    return [rowcol_to_a1(i,j) for i,j in product(range(first_row, last_row+1), range(first_col, last_col+1))]"
   ]
  },
  {
   "cell_type": "code",
   "execution_count": 14,
   "metadata": {
    "collapsed": true
   },
   "outputs": [],
   "source": [
    "def id_generation(date) :\n",
    "    date_int = int(date.strftime('%Y%m%d00'))\n",
    "    #date_int = (int(date[0:4]) * 10000 + int(date[5:7]) * 100 + int(date[8:10])) * 100\n",
    "    #crsr = db.cursor()\n",
    "    #crsr.execute('SELECT id FROM money_events WHERE id BETWEEN {} AND {}'.format(\n",
    "    #    date_int, date_int + 99))\n",
    "    #results = [row[0] for row in crsr.fetchall()]\n",
    "\n",
    "    current_id = date_int + 1\n",
    "    #while current_id in results :\n",
    "    #    current_id += 1\n",
    "    #if current_id > date_int + 99 :\n",
    "    #    raise IndexError('Encountered to many ids for the date {}'.format(date))\n",
    "\n",
    "    return current_id"
   ]
  },
  {
   "cell_type": "code",
   "execution_count": 5,
   "metadata": {},
   "outputs": [],
   "source": [
    "def date_convert(item) :\n",
    "    try :\n",
    "          return pyxl.utils.datetime.from_excel(item)\n",
    "    except :\n",
    "        if type(item) is str :\n",
    "            return pd.to_datetime(item)\n",
    "        else :\n",
    "            return pd.Timestamp(item)\n",
    "        #pass\n",
    "            \n",
    "\n",
    "def get_df_by_range(sheet, first_cell, last_cell, date_cols=None) :\n",
    "    data_rows = [[cell.value for cell in row] + ['{0}:{1}'.format(row[0].coordinate, row[-1].coordinate)]\n",
    "        for row in august[first_cell:last_cell]]\n",
    "\n",
    "    df = pd.DataFrame(data_rows)\n",
    "    new_index = df.iloc[:,range(len(df.columns)-1)].dropna(how='all').index\n",
    "    if date_cols is not None and type(date_cols) is int :\n",
    "        df.iloc[:,date_cols] = df.iloc[:,date_cols].apply(date_convert).copy()\n",
    "    elif type(date_cols) is str : \n",
    "        df.loc[:,date_cols] = df.loc[:,date_cols].apply(date_convert).copy()\n",
    "    elif type(date_cols) is list :\n",
    "        for col in date_cols :\n",
    "            if type(col) is int :\n",
    "                df.iloc[:,col] = df.iloc[:,col].apply(date_convert).copy()\n",
    "            if type(col) is str : \n",
    "                df.loc[:,col] = df.loc[:,col].apply(date_convert).copy()\n",
    "    return df.loc[new_index]"
   ]
  },
  {
   "cell_type": "code",
   "execution_count": 7,
   "metadata": {},
   "outputs": [],
   "source": [
    "budgeting = get_df_by_range(august_, 'A6', 'D130', 2)\n",
    "budgeting.columns = ['budget_type', 'description', 'date', 'amount', 'excel_range']\n",
    "\n",
    "col_titles = ['description', 'date', 'amount', 'excel_range']\n",
    "\n",
    "max_bargeld = get_df_by_range(august_, 'H7', 'J130', 1)\n",
    "max_bargeld.columns = col_titles\n",
    "max_bargeld['money_pot'] = 'BM'\n",
    "\n",
    "paul_bargeld = get_df_by_range(august_, 'K7', 'M130', 1)\n",
    "paul_bargeld.columns = col_titles\n",
    "paul_bargeld['money_pot'] = 'BM'\n",
    "\n",
    "konto = get_df_by_range(august_, 'N7', 'P130', 1)\n",
    "konto.columns = col_titles\n",
    "konto['money_pot'] = 'KG'\n",
    "\n",
    "conjoined = pd.concat([max_bargeld, paul_bargeld, konto])"
   ]
  },
  {
   "cell_type": "code",
   "execution_count": 8,
   "metadata": {},
   "outputs": [],
   "source": [
    "all_info = pd.merge(budgeting, conjoined, how='outer', \n",
    "                    on=['description', 'date', 'amount'], indicator=True)\n",
    "\n",
    "perfect_result = all_info[all_info['_merge'] == 'both']"
   ]
  },
  {
   "cell_type": "code",
   "execution_count": 15,
   "metadata": {},
   "outputs": [],
   "source": [
    "for index, row in perfect_result.iterrows() :\n",
    "    comment_text = 'This comment template is just a test.' + \\\n",
    "                   'The id is {} from the df row {}.'.format(id_generation(row['date']), index)\n",
    "    comment = pyxl.comments.Comment(comment_text, 'budgeter')\n",
    "    for cell in list_from_range_string(row['excel_range_x']) + \\\n",
    "                list_from_range_string(row['excel_range_y']) :\n",
    "        august_[cell].comment = comment    "
   ]
  },
  {
   "cell_type": "code",
   "execution_count": 16,
   "metadata": {
    "collapsed": true
   },
   "outputs": [],
   "source": [
    "wb.save('GemBil.xlsx')"
   ]
  },
  {
   "cell_type": "code",
   "execution_count": null,
   "metadata": {
    "collapsed": true
   },
   "outputs": [],
   "source": []
  }
 ],
 "metadata": {
  "kernelspec": {
   "display_name": "Python 3",
   "language": "python",
   "name": "python3"
  },
  "language_info": {
   "codemirror_mode": {
    "name": "ipython",
    "version": 3
   },
   "file_extension": ".py",
   "mimetype": "text/x-python",
   "name": "python",
   "nbconvert_exporter": "python",
   "pygments_lexer": "ipython3",
   "version": "3.6.2"
  }
 },
 "nbformat": 4,
 "nbformat_minor": 2
}
