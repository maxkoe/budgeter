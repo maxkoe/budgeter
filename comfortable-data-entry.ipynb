{
 "cells": [
  {
   "cell_type": "code",
   "execution_count": 1,
   "metadata": {
    "collapsed": true
   },
   "outputs": [],
   "source": [
    "import shutil, os\n",
    "import pandas as pd\n",
    "from gspread_dataframe import set_with_dataframe\n",
    "\n",
    "project_dir = '/Users/max/budgeter/'\n",
    "template_file = './templates/simple_payment_list.xlsx'\n",
    "temp_name = './entry_temp.xlsx'\n",
    "\n",
    "def is_number(s) :\n",
    "    try :\n",
    "        float(s)\n",
    "        return True\n",
    "    except ValueError :\n",
    "        return False"
   ]
  },
  {
   "cell_type": "code",
   "execution_count": 2,
   "metadata": {},
   "outputs": [
    {
     "name": "stdout",
     "output_type": "stream",
     "text": [
      "Make any input to continue.\n"
     ]
    },
    {
     "data": {
      "text/plain": [
       "''"
      ]
     },
     "execution_count": 2,
     "metadata": {},
     "output_type": "execute_result"
    }
   ],
   "source": [
    "os.chdir(project_dir)\n",
    "\n",
    "shutil.copy(template_file, temp_name)\n",
    "\n",
    "os.system('open ' + temp_name)\n",
    "input('Make any input to continue.')"
   ]
  },
  {
   "cell_type": "code",
   "execution_count": 3,
   "metadata": {},
   "outputs": [
    {
     "name": "stdout",
     "output_type": "stream",
     "text": [
      "The read data is:\n"
     ]
    },
    {
     "data": {
      "text/html": [
       "<div>\n",
       "<style>\n",
       "    .dataframe thead tr:only-child th {\n",
       "        text-align: right;\n",
       "    }\n",
       "\n",
       "    .dataframe thead th {\n",
       "        text-align: left;\n",
       "    }\n",
       "\n",
       "    .dataframe tbody tr th {\n",
       "        vertical-align: top;\n",
       "    }\n",
       "</style>\n",
       "<table border=\"1\" class=\"dataframe\">\n",
       "  <thead>\n",
       "    <tr style=\"text-align: right;\">\n",
       "      <th></th>\n",
       "      <th>date</th>\n",
       "      <th>description</th>\n",
       "      <th>amount</th>\n",
       "      <th>budget_type</th>\n",
       "      <th>transaction_type</th>\n",
       "      <th>money_pot</th>\n",
       "    </tr>\n",
       "  </thead>\n",
       "  <tbody>\n",
       "    <tr>\n",
       "      <th>0</th>\n",
       "      <td>2017-08-25</td>\n",
       "      <td>Eis</td>\n",
       "      <td>-1.2</td>\n",
       "      <td>A</td>\n",
       "      <td>Barzahlung</td>\n",
       "      <td>BM</td>\n",
       "    </tr>\n",
       "    <tr>\n",
       "      <th>1</th>\n",
       "      <td>2017-08-25</td>\n",
       "      <td>Suppe</td>\n",
       "      <td>-0.6</td>\n",
       "      <td>AM</td>\n",
       "      <td>Kartenzahlung</td>\n",
       "      <td>CB</td>\n",
       "    </tr>\n",
       "  </tbody>\n",
       "</table>\n",
       "</div>"
      ],
      "text/plain": [
       "        date description  amount budget_type transaction_type money_pot\n",
       "0 2017-08-25         Eis    -1.2           A       Barzahlung        BM\n",
       "1 2017-08-25       Suppe    -0.6          AM    Kartenzahlung        CB"
      ]
     },
     "metadata": {},
     "output_type": "display_data"
    },
    {
     "name": "stdout",
     "output_type": "stream",
     "text": [
      "\n",
      "If this is not the intended data, enter any number:\n",
      "OK.\n"
     ]
    }
   ],
   "source": [
    "data_is_final = False\n",
    "\n",
    "while not data_is_final :\n",
    "    read_data = pd.read_excel(temp_name, skiprows=1)\n",
    "    \n",
    "    ## Here one could do a replace with a dict if the transaction type was abbreviated\n",
    "\n",
    "    print('The read data is:')\n",
    "    display(read_data)\n",
    "    print('')\n",
    "\n",
    "    request = input('If this is not the intended data, enter any number:')\n",
    "\n",
    "    if not is_number(request) :\n",
    "        print('OK.')\n",
    "        data_is_final = True\n",
    "    else : \n",
    "        os.system('open ' + temp_name)\n",
    "        input('Make any input to continue.')"
   ]
  },
  {
   "cell_type": "code",
   "execution_count": 4,
   "metadata": {
    "collapsed": true
   },
   "outputs": [],
   "source": [
    "import gspread\n",
    "from oauth2client.service_account import ServiceAccountCredentials\n",
    "\n",
    "def connect_to_sheets(spreadsheet='GemeinsameBilanzierung_16_17', sheetname='') :\n",
    "    \n",
    "    if type(spreadsheet) is str : \n",
    "        scope = ['https://spreadsheets.google.com/feeds']\n",
    "        creds = ServiceAccountCredentials.from_json_keyfile_name('client-secret.json', scope)\n",
    "        client = gspread.authorize(creds)\n",
    "        spreadsheet = client.open(spreadsheet)\n",
    "\n",
    "    # Find a workbook by name and open the first sheet\n",
    "    # Make sure you use the right name here.\n",
    "    if sheetname == '' :\n",
    "        return spreadsheet\n",
    "    else :\n",
    "        worksheet = spreadsheet.worksheet(sheetname)\n",
    "        return worksheet\n",
    "    \n",
    "workbook = connect_to_sheets()\n",
    "sheet = connect_to_sheets(workbook, 'August')"
   ]
  },
  {
   "cell_type": "code",
   "execution_count": 33,
   "metadata": {},
   "outputs": [
    {
     "data": {
      "text/html": [
       "<div>\n",
       "<style>\n",
       "    .dataframe thead tr:only-child th {\n",
       "        text-align: right;\n",
       "    }\n",
       "\n",
       "    .dataframe thead th {\n",
       "        text-align: left;\n",
       "    }\n",
       "\n",
       "    .dataframe tbody tr th {\n",
       "        vertical-align: top;\n",
       "    }\n",
       "</style>\n",
       "<table border=\"1\" class=\"dataframe\">\n",
       "  <thead>\n",
       "    <tr style=\"text-align: right;\">\n",
       "      <th></th>\n",
       "      <th>budget_type</th>\n",
       "      <th>description</th>\n",
       "      <th>date</th>\n",
       "      <th>amount</th>\n",
       "    </tr>\n",
       "  </thead>\n",
       "  <tbody>\n",
       "    <tr>\n",
       "      <th>0</th>\n",
       "      <td>A</td>\n",
       "      <td>Eis</td>\n",
       "      <td>25/08/17</td>\n",
       "      <td>-1,20 €</td>\n",
       "    </tr>\n",
       "    <tr>\n",
       "      <th>1</th>\n",
       "      <td>AM</td>\n",
       "      <td>Suppe</td>\n",
       "      <td>25/08/17</td>\n",
       "      <td>-0,60 €</td>\n",
       "    </tr>\n",
       "  </tbody>\n",
       "</table>\n",
       "</div>"
      ],
      "text/plain": [
       "  budget_type description      date   amount\n",
       "0           A         Eis  25/08/17  -1,20 €\n",
       "1          AM       Suppe  25/08/17  -0,60 €"
      ]
     },
     "metadata": {},
     "output_type": "display_data"
    }
   ],
   "source": [
    "new_budget_info = read_data[['budget_type', 'description', 'date', 'amount']].copy()\n",
    "new_budget_info.loc[:,'date'] = new_budget_info['date'].dt.strftime('%d/%m/%y')\n",
    "new_budget_info.loc[:,'amount'] = new_budget_info['amount'].map('{:,.2f} €'.format)\n",
    "new_budget_info.loc[:,'amount'] = new_budget_info['amount'].str.replace('.',',')\n",
    "display(new_budget_info)"
   ]
  },
  {
   "cell_type": "code",
   "execution_count": 37,
   "metadata": {
    "collapsed": true
   },
   "outputs": [],
   "source": [
    "the_col_A = 1\n",
    "starting_row = 5\n",
    "new_row = sheet.col_values(the_col_A).index('', starting_row)\n",
    "\n",
    "set_with_dataframe(sheet, right_side, row=new_row, col=the_col_A, include_column_header=False)"
   ]
  },
  {
   "cell_type": "code",
   "execution_count": 35,
   "metadata": {},
   "outputs": [
    {
     "data": {
      "text/html": [
       "<div>\n",
       "<style>\n",
       "    .dataframe thead tr:only-child th {\n",
       "        text-align: right;\n",
       "    }\n",
       "\n",
       "    .dataframe thead th {\n",
       "        text-align: left;\n",
       "    }\n",
       "\n",
       "    .dataframe tbody tr th {\n",
       "        vertical-align: top;\n",
       "    }\n",
       "</style>\n",
       "<table border=\"1\" class=\"dataframe\">\n",
       "  <thead>\n",
       "    <tr style=\"text-align: right;\">\n",
       "      <th></th>\n",
       "      <th>description</th>\n",
       "      <th>date</th>\n",
       "      <th>amount</th>\n",
       "    </tr>\n",
       "  </thead>\n",
       "  <tbody>\n",
       "    <tr>\n",
       "      <th>0</th>\n",
       "      <td>Eis</td>\n",
       "      <td>25/08/17</td>\n",
       "      <td>-1,20 €</td>\n",
       "    </tr>\n",
       "  </tbody>\n",
       "</table>\n",
       "</div>"
      ],
      "text/plain": [
       "  description      date   amount\n",
       "0         Eis  25/08/17  -1,20 €"
      ]
     },
     "metadata": {},
     "output_type": "display_data"
    }
   ],
   "source": [
    "new_max_bargeld_info = read_data.loc[read_data['money_pot'] == 'BM']\n",
    "new_max_bargeld_info = new_max_bargeld_info[['description', 'date', 'amount']].copy()\n",
    "\n",
    "new_max_bargeld_info['date'] = new_max_bargeld_info['date'].dt.strftime('%d/%m/%y')\n",
    "new_max_bargeld_info.loc[:,'amount'] = new_max_bargeld_info['amount'].map('{:,.2f} €'.format)\n",
    "new_max_bargeld_info.loc[:,'amount'] = new_max_bargeld_info['amount'].str.replace('.',',')\n",
    "\n",
    "display(new_max_bargeld_info)"
   ]
  },
  {
   "cell_type": "code",
   "execution_count": 38,
   "metadata": {
    "collapsed": true
   },
   "outputs": [],
   "source": [
    "the_col_H = 8\n",
    "starting_row = 5\n",
    "new_row = sheet.col_values(the_col_H).index('', starting_row)\n",
    "\n",
    "set_with_dataframe(sheet, max_side, row=new_row, col=the_col_H, include_column_header=False)"
   ]
  },
  {
   "cell_type": "code",
   "execution_count": null,
   "metadata": {
    "collapsed": true
   },
   "outputs": [],
   "source": [
    "starting_col = {'BM' : 8,    # col H\n",
    "                'BP' : 11,   # col K\n",
    "                'GK' : 14 }  # col N\n",
    "starting_row = 5\n",
    "\n",
    "def update_big_pots(sheet, full_info, money_pot='GK', \n",
    "                    cols=['description', 'date', 'amount'],\n",
    "                    date_col='date', amount_col='amount', money_pot_col='money_pot') :\n",
    "    if date_col not in cols or amount_col not in cols :\n",
    "        raise ValueError\n",
    "    new_info = full_info.loc[read_data[money_pot_col] == money_pot]\n",
    "    new_info = new_info[cols].copy()\n",
    "    \n",
    "    new_info[date_col] = new_info[date_col].dt.strftime('%d/%m/%y')\n",
    "    new_col = new_info[amount_col].map('{:,.2f} €'.format)\n",
    "    new_info[amount_col] = new_col.str.replace('.',',')\n",
    "    \n",
    "    display(new_info)\n",
    "    \n",
    "    first_empty_row = sheet.col_values(starting_col[money_pot]).index('', starting_row)\n",
    "    set_with_dataframe(sheet, new_info, row=first_empty_row, col=starting_col[money_pot], \n",
    "                       include_column_header=False)\n",
    "\n"
   ]
  }
 ],
 "metadata": {
  "kernelspec": {
   "display_name": "Python 3",
   "language": "python",
   "name": "python3"
  },
  "language_info": {
   "codemirror_mode": {
    "name": "ipython",
    "version": 3
   },
   "file_extension": ".py",
   "mimetype": "text/x-python",
   "name": "python",
   "nbconvert_exporter": "python",
   "pygments_lexer": "ipython3",
   "version": "3.6.2"
  }
 },
 "nbformat": 4,
 "nbformat_minor": 2
}
